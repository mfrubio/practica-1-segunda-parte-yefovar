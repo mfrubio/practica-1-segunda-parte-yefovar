{
  "nbformat": 4,
  "nbformat_minor": 0,
  "metadata": {
    "colab": {
      "name": "ejemplo2.ipynb",
      "provenance": []
    },
    "kernelspec": {
      "name": "python3",
      "display_name": "Python 3"
    },
    "language_info": {
      "name": "python"
    }
  },
  "cells": [
    {
      "cell_type": "code",
      "metadata": {
        "id": "9pHcvOij-HjW"
      },
      "source": [
        "from Simplex import *\n",
        "c = np.array([1,1,-4])\n",
        "b = np.array([9,2,4])\n",
        "A = np.array([[1,1,2],\n",
        "             [1,1,-1],\n",
        "             [-1,1,1]])\n",
        "\n",
        "problema = Simplex(c,A,b)\n",
        "problema.solve()"
      ],
      "execution_count": null,
      "outputs": []
    }
  ]
}