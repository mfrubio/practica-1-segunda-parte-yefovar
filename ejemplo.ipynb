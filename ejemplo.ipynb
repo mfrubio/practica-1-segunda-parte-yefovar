{
  "nbformat": 4,
  "nbformat_minor": 0,
  "metadata": {
    "colab": {
      "name": "ejemplo.ipynb",
      "provenance": []
    },
    "kernelspec": {
      "name": "python3",
      "display_name": "Python 3"
    },
    "language_info": {
      "name": "python"
    }
  },
  "cells": [
    {
      "cell_type": "code",
      "metadata": {
        "id": "DRkTv27O4MA1"
      },
      "source": [
        "from Simplex import *"
      ],
      "execution_count": null,
      "outputs": []
    },
    {
      "cell_type": "code",
      "metadata": {
        "id": "kKkKiHTd4N_N"
      },
      "source": [
        "c = np.array([1,1,-4])\n",
        "b = np.array([9,2,4])\n",
        "A = np.array([[1,1,2],\n",
        "             [1,1,-1],\n",
        "             [-1,1,1]])"
      ],
      "execution_count": null,
      "outputs": []
    },
    {
      "cell_type": "code",
      "metadata": {
        "id": "IDbqOK444Pqj"
      },
      "source": [
        "problema = Simplex(c,A,b)\n",
        "problema.solve()"
      ],
      "execution_count": null,
      "outputs": []
    }
  ]
}